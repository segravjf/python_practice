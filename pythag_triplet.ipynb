{
  "nbformat": 4,
  "nbformat_minor": 0,
  "metadata": {
    "colab": {
      "provenance": [],
      "authorship_tag": "ABX9TyMhvlsFHzc9q7PYrzp9u4F3",
      "include_colab_link": true
    },
    "kernelspec": {
      "name": "python3",
      "display_name": "Python 3"
    },
    "language_info": {
      "name": "python"
    }
  },
  "cells": [
    {
      "cell_type": "markdown",
      "metadata": {
        "id": "view-in-github",
        "colab_type": "text"
      },
      "source": [
        "<a href=\"https://colab.research.google.com/github/segravjf/python_practice/blob/main/pythag_triplet.ipynb\" target=\"_parent\"><img src=\"https://colab.research.google.com/assets/colab-badge.svg\" alt=\"Open In Colab\"/></a>"
      ]
    },
    {
      "cell_type": "markdown",
      "source": [
        "# Pythagorean Triplet"
      ],
      "metadata": {
        "id": "zgdDvqPwN3MM"
      }
    },
    {
      "cell_type": "markdown",
      "source": [
        "Given an array of integers, can you write a function that returns \"True\" if there is a triplet (a, b, c) within the array that satisfies a^2 + b^2 = c^2?\n",
        "\n",
        "\n",
        "\n",
        "\n",
        "For example:\n",
        "\n",
        "\n",
        "\n",
        "```\n",
        "Input: arr[] = [3, 1, 4, 6, 5]\n",
        "```\n",
        "```\n",
        "Output: True\n",
        "```\n",
        "> There is a Pythagorean triplet (3, 4, 5) that exists in the input array\n",
        "\n",
        "```\n",
        "Input: arr[] = {10, 4, 6, 12, 5}\n",
        "```\n",
        "```\n",
        "Output: False\n",
        "```\n",
        "> There is no Pythagorean triplet that exists in the input array."
      ],
      "metadata": {
        "id": "Zi2F2ClYO6Hs"
      }
    },
    {
      "cell_type": "code",
      "source": [
        "## Set up dummy example\n",
        "ex = [3, 1, 4, 6, 5]\n",
        "\n",
        "## Plan: iterate across each element of the array and do a simple a2+b2=c2 check\n",
        "for i in range(0,len(ex)-2):\n",
        "  for j in range(i+1,len(ex)-1):\n",
        "    for k in range(j+1,len(ex)):\n",
        "      if pow(ex[i],2) + pow(ex[j],2) == pow(ex[k],2):\n",
        "        print(ex[i], \" squared plus \", ex[j], \" squared equals \", ex[k], \" squared!\")"
      ],
      "metadata": {
        "colab": {
          "base_uri": "https://localhost:8080/"
        },
        "id": "Bq7ocrs8Peyv",
        "outputId": "deea780a-1510-45da-8da2-b1236e281063"
      },
      "execution_count": 8,
      "outputs": [
        {
          "output_type": "stream",
          "name": "stdout",
          "text": [
            "3  squared plus  4  squared equals  5  squared!\n"
          ]
        }
      ]
    },
    {
      "cell_type": "code",
      "source": [
        "## Now set it up as a function\n",
        "## Function inputs an array and outputs True or False based on the existence of a pythag triplet\n",
        "\n",
        "def check_pythag_triplet(arr):\n",
        "  ## Store array length in a variable for easier use\n",
        "  l = len(arr)\n",
        "  ## Start off results to return as False; will switch to true if we find a triplet\n",
        "  results = False\n",
        "  for i in range(0,l-2):\n",
        "    for j in range(i+1,l-1):\n",
        "      for k in range(j+1,l):\n",
        "        if pow(arr[i],2) + pow(arr[j],2) == pow(arr[k],2) or pow(arr[i],2) + pow(arr[k],2) == pow(arr[j],2) or pow(arr[j],2) + pow(arr[k],2) == pow(arr[i],2):\n",
        "          print(arr[i], \" \", arr[j], \" \", arr[k], \" are pythagorean triples!\")\n",
        "          results = True\n",
        "          break\n",
        "  return results"
      ],
      "metadata": {
        "id": "5w-pPjB_P_bo"
      },
      "execution_count": 20,
      "outputs": []
    },
    {
      "cell_type": "code",
      "source": [
        "## Check first example\n",
        "check_pythag_triplet(ex)"
      ],
      "metadata": {
        "colab": {
          "base_uri": "https://localhost:8080/"
        },
        "id": "hT8ORlTnTfGf",
        "outputId": "61fb6b9b-f1db-4523-ed6b-f4134bda3e18"
      },
      "execution_count": 21,
      "outputs": [
        {
          "output_type": "stream",
          "name": "stdout",
          "text": [
            "3   4   5  are pythagorean triples!\n"
          ]
        },
        {
          "output_type": "execute_result",
          "data": {
            "text/plain": [
              "True"
            ]
          },
          "metadata": {},
          "execution_count": 21
        }
      ]
    },
    {
      "cell_type": "code",
      "source": [
        "## Check example with no triplets\n",
        "notrips = [10, 4, 6, 12, 5]\n",
        "\n",
        "check_pythag_triplet(notrips)"
      ],
      "metadata": {
        "colab": {
          "base_uri": "https://localhost:8080/"
        },
        "id": "xcWMMzWiTn0z",
        "outputId": "b2b6bc0d-fcd1-47ab-ee38-395562d627bb"
      },
      "execution_count": 22,
      "outputs": [
        {
          "output_type": "execute_result",
          "data": {
            "text/plain": [
              "False"
            ]
          },
          "metadata": {},
          "execution_count": 22
        }
      ]
    },
    {
      "cell_type": "code",
      "source": [
        "## Check for a triplet example that's out of order (the first element is c squared)\n",
        "csq = [13, 12, 5, 1, 2]\n",
        "\n",
        "check_pythag_triplet(csq)"
      ],
      "metadata": {
        "colab": {
          "base_uri": "https://localhost:8080/"
        },
        "id": "MEnJXNnMTzqw",
        "outputId": "bc75e06c-05d5-45ef-c4b8-1b4d781eb495"
      },
      "execution_count": 23,
      "outputs": [
        {
          "output_type": "stream",
          "name": "stdout",
          "text": [
            "13   12   5  are pythagorean triples!\n"
          ]
        },
        {
          "output_type": "execute_result",
          "data": {
            "text/plain": [
              "True"
            ]
          },
          "metadata": {},
          "execution_count": 23
        }
      ]
    }
  ]
}