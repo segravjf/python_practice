{
  "nbformat": 4,
  "nbformat_minor": 0,
  "metadata": {
    "colab": {
      "provenance": [],
      "authorship_tag": "ABX9TyOUPOtiUO8HXBxtffqdAcOX",
      "include_colab_link": true
    },
    "kernelspec": {
      "name": "python3",
      "display_name": "Python 3"
    },
    "language_info": {
      "name": "python"
    }
  },
  "cells": [
    {
      "cell_type": "markdown",
      "metadata": {
        "id": "view-in-github",
        "colab_type": "text"
      },
      "source": [
        "<a href=\"https://colab.research.google.com/github/segravjf/python_practice/blob/main/counting_capital_letters.ipynb\" target=\"_parent\"><img src=\"https://colab.research.google.com/assets/colab-badge.svg\" alt=\"Open In Colab\"/></a>"
      ]
    },
    {
      "cell_type": "markdown",
      "source": [
        "# Counting capital letters"
      ],
      "metadata": {
        "id": "WFzg5wfzoIRr"
      }
    },
    {
      "cell_type": "markdown",
      "source": [
        "Using Python, write code that will read a file and return the number of capital letters.\n",
        "    \n",
        "\n",
        "\n",
        "    \n",
        "Once you have your initial piece of code, see if you can condense into a one-liner."
      ],
      "metadata": {
        "id": "ybKNJHmSoYhI"
      }
    },
    {
      "cell_type": "code",
      "source": [
        "## Do a dummy example here long ways\n",
        "ex = \"How many Capital Letters are there?\"\n",
        "counter = 0\n",
        "\n",
        "for letter in ex:\n",
        "  if letter == letter.upper() and letter.isalnum():\n",
        "    counter += 1\n",
        "    print(letter)\n",
        "\n",
        "print(counter)"
      ],
      "metadata": {
        "colab": {
          "base_uri": "https://localhost:8080/"
        },
        "id": "nJ1AGsm_ocRF",
        "outputId": "127ff31e-4b65-4d1c-c49f-d03b6ac977e1"
      },
      "execution_count": 5,
      "outputs": [
        {
          "output_type": "stream",
          "name": "stdout",
          "text": [
            "H\n",
            "C\n",
            "L\n",
            "3\n"
          ]
        }
      ]
    },
    {
      "cell_type": "code",
      "source": [
        "## Do a one liner\n",
        "sentence = \"Yves St. Laurent is my favorite fashion Brand\"\n",
        "\n",
        "cnt = sum([1 for i in sentence if i == i.upper() and i.isalnum()])\n",
        "\n",
        "cnt"
      ],
      "metadata": {
        "colab": {
          "base_uri": "https://localhost:8080/"
        },
        "id": "6uusWSNXpeS0",
        "outputId": "d0be8dae-63a3-4df5-9098-7482423e7342"
      },
      "execution_count": 7,
      "outputs": [
        {
          "output_type": "execute_result",
          "data": {
            "text/plain": [
              "4"
            ]
          },
          "metadata": {},
          "execution_count": 7
        }
      ]
    },
    {
      "cell_type": "code",
      "source": [
        "## Wrap as a function\n",
        "def count_caps(sentence):\n",
        "  return sum([1 for i in sentence if i == i.upper() and i.isalnum()])"
      ],
      "metadata": {
        "id": "xP9IBySCozoi"
      },
      "execution_count": 8,
      "outputs": []
    },
    {
      "cell_type": "code",
      "source": [
        "## Test function\n",
        "test = \"This sentencE Has sIx cApitals, says I.\"\n",
        "\n",
        "count_caps(test)"
      ],
      "metadata": {
        "colab": {
          "base_uri": "https://localhost:8080/"
        },
        "id": "fGmt3lPaqINN",
        "outputId": "2f57a73e-5607-4f7d-c5f2-14122d17775c"
      },
      "execution_count": 9,
      "outputs": [
        {
          "output_type": "execute_result",
          "data": {
            "text/plain": [
              "6"
            ]
          },
          "metadata": {},
          "execution_count": 9
        }
      ]
    }
  ]
}