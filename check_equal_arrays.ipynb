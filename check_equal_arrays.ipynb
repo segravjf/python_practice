{
  "nbformat": 4,
  "nbformat_minor": 0,
  "metadata": {
    "colab": {
      "provenance": [],
      "authorship_tag": "ABX9TyMbc4V1Pky50L7BgxStCS5Y",
      "include_colab_link": true
    },
    "kernelspec": {
      "name": "python3",
      "display_name": "Python 3"
    },
    "language_info": {
      "name": "python"
    }
  },
  "cells": [
    {
      "cell_type": "markdown",
      "metadata": {
        "id": "view-in-github",
        "colab_type": "text"
      },
      "source": [
        "<a href=\"https://colab.research.google.com/github/segravjf/python_practice/blob/main/check_equal_arrays.ipynb\" target=\"_parent\"><img src=\"https://colab.research.google.com/assets/colab-badge.svg\" alt=\"Open In Colab\"/></a>"
      ]
    },
    {
      "cell_type": "markdown",
      "source": [
        "# Checking if arrays are equal"
      ],
      "metadata": {
        "id": "QRoRGl4TAjIy"
      }
    },
    {
      "cell_type": "markdown",
      "source": [
        "Given two arrays, write a function in vanilla Python (e.g., no libraries) to check whether or not the arrays are equal. You can consider the two arrays equal if both of them contain the same set of elements - the order of elements can differ.\n",
        "\n",
        "\n",
        "                    \n",
        "For example:\n",
        "\n",
        "\n",
        "                    \n",
        "                    \n",
        "## Given the following:\n",
        "                    \n",
        "\n",
        "arr1 = [1,5,6,7,8,0]\n",
        "                    \n",
        "\n",
        "arr2 = [0,5,7,6,8,1]\n",
        "                    \n",
        "\n",
        "\n",
        "                    \n",
        "\n",
        ">output = Yes\n",
        "                    \n",
        "\n",
        "arr3 = [1,5,6,7,8,0]\n",
        "                    \n",
        "\n",
        "arr4 = [0,7,7,7,8,1]"
      ],
      "metadata": {
        "id": "O2i9MdNiAx7O"
      }
    },
    {
      "cell_type": "code",
      "source": [
        "## Set up function\n",
        "## Make it pretty verbose\n",
        "def check_if_equal(arr1, arr2):\n",
        "  print(\"First array sorted: \",sorted(arr1))\n",
        "  print(\"Second array sorted: \",sorted(arr2))\n",
        "  if sorted(arr1) == sorted(arr2):\n",
        "    return True\n",
        "  else:\n",
        "    return False"
      ],
      "metadata": {
        "id": "3nJ5M4_TBFMF"
      },
      "execution_count": 1,
      "outputs": []
    },
    {
      "cell_type": "code",
      "source": [
        "## Should return true\n",
        "arr0 = [1,5,6,7,8,0]\n",
        "arr1 = [0,5,7,6,8,1]\n",
        "\n",
        "check_if_equal(arr0,arr1)"
      ],
      "metadata": {
        "colab": {
          "base_uri": "https://localhost:8080/"
        },
        "id": "0hoCSzK9BcAP",
        "outputId": "c8994829-c9ed-402b-c888-588c1bd82e34"
      },
      "execution_count": 2,
      "outputs": [
        {
          "output_type": "stream",
          "name": "stdout",
          "text": [
            "First array sorted:  [0, 1, 5, 6, 7, 8]\n",
            "Second array sorted:  [0, 1, 5, 6, 7, 8]\n"
          ]
        },
        {
          "output_type": "execute_result",
          "data": {
            "text/plain": [
              "True"
            ]
          },
          "metadata": {},
          "execution_count": 2
        }
      ]
    },
    {
      "cell_type": "code",
      "source": [
        "## Should return false\n",
        "arr3 = [1,5,6,7,8,0]\n",
        "arr4 = [0,7,7,7,8,1]\n",
        "\n",
        "check_if_equal(arr3,arr4)"
      ],
      "metadata": {
        "colab": {
          "base_uri": "https://localhost:8080/"
        },
        "id": "D4_CmisZBjti",
        "outputId": "015ae7ce-f082-4c2e-de9c-97d1539ee336"
      },
      "execution_count": 3,
      "outputs": [
        {
          "output_type": "stream",
          "name": "stdout",
          "text": [
            "First array sorted:  [0, 1, 5, 6, 7, 8]\n",
            "Second array sorted:  [0, 1, 7, 7, 7, 8]\n"
          ]
        },
        {
          "output_type": "execute_result",
          "data": {
            "text/plain": [
              "False"
            ]
          },
          "metadata": {},
          "execution_count": 3
        }
      ]
    }
  ]
}