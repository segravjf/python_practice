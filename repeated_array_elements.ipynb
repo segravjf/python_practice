{
  "nbformat": 4,
  "nbformat_minor": 0,
  "metadata": {
    "colab": {
      "provenance": [],
      "authorship_tag": "ABX9TyNcnpd3/ZOKbQmNAtieHz7D",
      "include_colab_link": true
    },
    "kernelspec": {
      "name": "python3",
      "display_name": "Python 3"
    },
    "language_info": {
      "name": "python"
    }
  },
  "cells": [
    {
      "cell_type": "markdown",
      "metadata": {
        "id": "view-in-github",
        "colab_type": "text"
      },
      "source": [
        "<a href=\"https://colab.research.google.com/github/segravjf/python_practice/blob/main/repeated_array_elements.ipynb\" target=\"_parent\"><img src=\"https://colab.research.google.com/assets/colab-badge.svg\" alt=\"Open In Colab\"/></a>"
      ]
    },
    {
      "cell_type": "markdown",
      "source": [
        "# Finding repeated elements in array of integers"
      ],
      "metadata": {
        "id": "ubHxOISVv8vp"
      }
    },
    {
      "cell_type": "markdown",
      "source": [
        "Suppose you're given an array of integers. Write code to find the first repeating element in the array.\n",
        "\n",
        "\n",
        "\n",
        "For example:\n",
        "\n",
        "\n",
        "\n",
        "\n",
        "Input: array = [10, 2, -2, -20, 10]\n",
        "\n",
        "Output: 10\n",
        "\n",
        "\n",
        "\n",
        "\n",
        "\n",
        "Input: array = [9, 4, 20, 20, 10, 5]\n",
        "\n",
        "\n",
        "Output: 20\n",
        "\n",
        "\n",
        "\n",
        "\n",
        "\n",
        "If there are no duplicates, you can return -1"
      ],
      "metadata": {
        "id": "Y0UCxP5ewGfn"
      }
    },
    {
      "cell_type": "code",
      "source": [
        "## Build up a dummy example to test out the logic before writing a function\n",
        "\n",
        "arr = [10,2,-2,-20,10]\n",
        "new = []\n",
        "\n",
        "for i in arr:\n",
        "  if i in new:\n",
        "    print(i)\n",
        "  else:\n",
        "    new.append(i)\n",
        "\n",
        "if len(arr) == len(new):\n",
        "  print(-1)"
      ],
      "metadata": {
        "colab": {
          "base_uri": "https://localhost:8080/"
        },
        "id": "CUG3AcB_wOSv",
        "outputId": "baa948bf-3e47-4f63-ef3b-5a193fe63524"
      },
      "execution_count": 1,
      "outputs": [
        {
          "output_type": "stream",
          "name": "stdout",
          "text": [
            "10\n"
          ]
        }
      ]
    },
    {
      "cell_type": "code",
      "source": [
        "## Write it as a function now\n",
        "def check_dupes(arr):\n",
        "  new = []\n",
        "  for i in arr:\n",
        "    if i in new:\n",
        "      return i\n",
        "    else:\n",
        "      new.append(i)\n",
        "  if len(arr) == len(new):\n",
        "    return -1"
      ],
      "metadata": {
        "id": "C7I2T9TUwyLN"
      },
      "execution_count": 2,
      "outputs": []
    },
    {
      "cell_type": "code",
      "source": [
        "## Test it out with another example\n",
        "new_arr = [9,4,20,20,10,5]\n",
        "\n",
        "check_dupes(new_arr)"
      ],
      "metadata": {
        "colab": {
          "base_uri": "https://localhost:8080/"
        },
        "id": "VB0c8SMLwyML",
        "outputId": "532195b9-05c8-4ce0-e54a-bf6ab9c5b49a"
      },
      "execution_count": 3,
      "outputs": [
        {
          "output_type": "execute_result",
          "data": {
            "text/plain": [
              "20"
            ]
          },
          "metadata": {},
          "execution_count": 3
        }
      ]
    },
    {
      "cell_type": "code",
      "source": [
        "## Test it out with the original\n",
        "check_dupes(arr=arr)"
      ],
      "metadata": {
        "colab": {
          "base_uri": "https://localhost:8080/"
        },
        "id": "Ne4jilcpxOJU",
        "outputId": "19946a52-1a3e-4601-c3fd-e5e6f38774e5"
      },
      "execution_count": 4,
      "outputs": [
        {
          "output_type": "execute_result",
          "data": {
            "text/plain": [
              "10"
            ]
          },
          "metadata": {},
          "execution_count": 4
        }
      ]
    },
    {
      "cell_type": "code",
      "source": [
        "## Test it out with a non-dupe\n",
        "nodupes = [1,2,3,4,5]\n",
        "\n",
        "check_dupes(nodupes)"
      ],
      "metadata": {
        "colab": {
          "base_uri": "https://localhost:8080/"
        },
        "id": "NxK3wvnfxOKI",
        "outputId": "9d88675d-57d9-45df-f3f9-0ce12b9f5113"
      },
      "execution_count": 5,
      "outputs": [
        {
          "output_type": "execute_result",
          "data": {
            "text/plain": [
              "-1"
            ]
          },
          "metadata": {},
          "execution_count": 5
        }
      ]
    }
  ]
}