{
  "nbformat": 4,
  "nbformat_minor": 0,
  "metadata": {
    "colab": {
      "provenance": [],
      "authorship_tag": "ABX9TyNPTBlyxjysUUx3inEoWYHj",
      "include_colab_link": true
    },
    "kernelspec": {
      "name": "python3",
      "display_name": "Python 3"
    },
    "language_info": {
      "name": "python"
    }
  },
  "cells": [
    {
      "cell_type": "markdown",
      "metadata": {
        "id": "view-in-github",
        "colab_type": "text"
      },
      "source": [
        "<a href=\"https://colab.research.google.com/github/segravjf/python_practice/blob/main/alternative_array_sorting.ipynb\" target=\"_parent\"><img src=\"https://colab.research.google.com/assets/colab-badge.svg\" alt=\"Open In Colab\"/></a>"
      ]
    },
    {
      "cell_type": "markdown",
      "source": [
        "# Alternative array sorting"
      ],
      "metadata": {
        "id": "NujfePcr5j8t"
      }
    },
    {
      "cell_type": "markdown",
      "source": [
        "Given an array of integers, print the array in alternating min/max order. The first element should be the first maximum, second element should be the first minimum, third element should be second maximum, etc. For example:\n",
        "\n",
        "\n",
        "    \n",
        "    \n",
        "    \n",
        "Given the following array:\n",
        "    \n",
        "```\n",
        "arr[] = [10, 2, 11, 3, 7, 4, 1]\n",
        "```\n",
        "\n",
        "\n",
        "    \n",
        "\n",
        "Your function should return:\n",
        "    \n",
        "```\n",
        "11, 1, 10, 2, 7, 3, 4\n",
        "```"
      ],
      "metadata": {
        "id": "uvvjXu946VTU"
      }
    },
    {
      "cell_type": "code",
      "source": [
        "## Create a live version for experimentation\n",
        "\n",
        "arr = [10,2,11,3,7,4,1]"
      ],
      "metadata": {
        "id": "UNaj9sMu6lis"
      },
      "execution_count": 8,
      "outputs": []
    },
    {
      "cell_type": "code",
      "source": [
        "## This can likely be done via looping through and flipping between a min and max criteria through a Boolean\n",
        "new = []\n",
        "do_max = True\n",
        "\n",
        "while len(arr) > 0:\n",
        "  if do_max:\n",
        "    to_pop = max(arr)\n",
        "    to_add = arr.pop(arr.index(to_pop))\n",
        "    new.append(to_add)\n",
        "    do_max = False\n",
        "  else:\n",
        "    to_pop = min(arr)\n",
        "    to_add = arr.pop(arr.index(to_pop))\n",
        "    new.append(to_add)\n",
        "    do_max = True\n",
        "\n",
        "print(new)"
      ],
      "metadata": {
        "colab": {
          "base_uri": "https://localhost:8080/"
        },
        "id": "XJEhYnWO6tm3",
        "outputId": "09089859-3111-4bc1-adf5-9833aa1791a3"
      },
      "execution_count": 9,
      "outputs": [
        {
          "output_type": "stream",
          "name": "stdout",
          "text": [
            "[11, 1, 10, 2, 7, 3, 4]\n"
          ]
        }
      ]
    },
    {
      "cell_type": "code",
      "source": [
        "## Now wrap this in a function\n",
        "def alterna_sort(arr):\n",
        "  new = []\n",
        "  do_max = True\n",
        "\n",
        "  while len(arr) > 0:\n",
        "    if do_max:\n",
        "      to_pop = max(arr)\n",
        "      to_add = arr.pop(arr.index(to_pop))\n",
        "      new.append(to_add)\n",
        "      do_max = False\n",
        "    else:\n",
        "      to_pop = min(arr)\n",
        "      to_add = arr.pop(arr.index(to_pop))\n",
        "      new.append(to_add)\n",
        "      do_max = True\n",
        "  return new"
      ],
      "metadata": {
        "id": "2nJlAAKw7OXK"
      },
      "execution_count": 13,
      "outputs": []
    },
    {
      "cell_type": "code",
      "source": [
        "## Run the function\n",
        "arr = [10,2,11,3,7,4,1]\n",
        "alterna_sort(arr=arr)"
      ],
      "metadata": {
        "colab": {
          "base_uri": "https://localhost:8080/"
        },
        "id": "AqNaRaZk8vOe",
        "outputId": "7dfaa8ce-4fc3-48b0-9f6c-87af78525483"
      },
      "execution_count": 14,
      "outputs": [
        {
          "output_type": "execute_result",
          "data": {
            "text/plain": [
              "[11, 1, 10, 2, 7, 3, 4]"
            ]
          },
          "metadata": {},
          "execution_count": 14
        }
      ]
    }
  ]
}