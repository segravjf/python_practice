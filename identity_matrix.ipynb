{
  "nbformat": 4,
  "nbformat_minor": 0,
  "metadata": {
    "colab": {
      "provenance": [],
      "authorship_tag": "ABX9TyPMU/G/i7CBBxzc4j0Y/NXj",
      "include_colab_link": true
    },
    "kernelspec": {
      "name": "python3",
      "display_name": "Python 3"
    },
    "language_info": {
      "name": "python"
    }
  },
  "cells": [
    {
      "cell_type": "markdown",
      "metadata": {
        "id": "view-in-github",
        "colab_type": "text"
      },
      "source": [
        "<a href=\"https://colab.research.google.com/github/segravjf/python_practice/blob/main/identity_matrix.ipynb\" target=\"_parent\"><img src=\"https://colab.research.google.com/assets/colab-badge.svg\" alt=\"Open In Colab\"/></a>"
      ]
    },
    {
      "cell_type": "markdown",
      "source": [
        "# Identity matrix"
      ],
      "metadata": {
        "id": "Off6PVHUHREd"
      }
    },
    {
      "cell_type": "markdown",
      "source": [
        "Can you build a function that prints an identity matrix, given the identity matrix size?\n",
        "\n",
        "\n",
        "    \n",
        "Examples:\n",
        "\n",
        "\n",
        "    \n",
        "    \n",
        "Input: 2\n",
        "    \n",
        "\n",
        "Output:\n",
        "    \n",
        "\n",
        "       1 0\n",
        "    \n",
        "\n",
        "       0 1\n",
        "    \n",
        "\n",
        "         \n",
        "    \n",
        "\n",
        "\n",
        "    \n",
        "\n",
        "Input: 4\n",
        "    \n",
        "\n",
        "Output:\n",
        "    \n",
        "\n",
        "       1 0 0 0\n",
        "    \n",
        "\n",
        "       0 1 0 0\n",
        "    \n",
        "\n",
        "       0 0 1 0\n",
        "    \n",
        "\n",
        "       0 0 0 1"
      ],
      "metadata": {
        "id": "CB3Hov7rHVJb"
      }
    },
    {
      "cell_type": "code",
      "source": [
        "def create_identity_matrix(len):\n",
        "  ## Create empty lists for the matrix\n",
        "  row = []\n",
        "  mat = []\n",
        "\n",
        "  ## Create base row of all zeroes with the correct length\n",
        "  for i in range(len):\n",
        "    row.append(0)\n",
        "\n",
        "  ## As I enter each row into the matrix, change the appropriate zero into a one\n",
        "  for i in range(len):\n",
        "    new_row = row.copy()\n",
        "    new_row[i] = 1\n",
        "    mat.append(new_row)\n",
        "\n",
        "  ## Return the matrix\n",
        "  return mat\n"
      ],
      "metadata": {
        "id": "9ynhy0bjHdMj"
      },
      "execution_count": 1,
      "outputs": []
    },
    {
      "cell_type": "code",
      "source": [
        "create_identity_matrix(3)"
      ],
      "metadata": {
        "colab": {
          "base_uri": "https://localhost:8080/"
        },
        "id": "MMJO41dqIQXR",
        "outputId": "4f17d208-99cc-4c02-a01a-747f9fe75ef6"
      },
      "execution_count": 2,
      "outputs": [
        {
          "output_type": "execute_result",
          "data": {
            "text/plain": [
              "[[1, 0, 0], [0, 1, 0], [0, 0, 1]]"
            ]
          },
          "metadata": {},
          "execution_count": 2
        }
      ]
    },
    {
      "cell_type": "code",
      "source": [
        "create_identity_matrix(2)"
      ],
      "metadata": {
        "colab": {
          "base_uri": "https://localhost:8080/"
        },
        "id": "IaRXpb_QMZvS",
        "outputId": "4455299f-4743-432c-d5dc-00297ea00ae2"
      },
      "execution_count": 3,
      "outputs": [
        {
          "output_type": "execute_result",
          "data": {
            "text/plain": [
              "[[1, 0], [0, 1]]"
            ]
          },
          "metadata": {},
          "execution_count": 3
        }
      ]
    },
    {
      "cell_type": "code",
      "source": [
        "create_identity_matrix(5)"
      ],
      "metadata": {
        "colab": {
          "base_uri": "https://localhost:8080/"
        },
        "id": "Vo1ZUcx7ipi1",
        "outputId": "e777d836-27d1-49e0-ca30-f8cd2e13e9ba"
      },
      "execution_count": 4,
      "outputs": [
        {
          "output_type": "execute_result",
          "data": {
            "text/plain": [
              "[[1, 0, 0, 0, 0],\n",
              " [0, 1, 0, 0, 0],\n",
              " [0, 0, 1, 0, 0],\n",
              " [0, 0, 0, 1, 0],\n",
              " [0, 0, 0, 0, 1]]"
            ]
          },
          "metadata": {},
          "execution_count": 4
        }
      ]
    }
  ]
}