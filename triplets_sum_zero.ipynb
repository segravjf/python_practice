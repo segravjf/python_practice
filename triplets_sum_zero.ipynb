{
  "nbformat": 4,
  "nbformat_minor": 0,
  "metadata": {
    "colab": {
      "provenance": [],
      "authorship_tag": "ABX9TyM4G1eKFqk+y8xq7YjeFh0R",
      "include_colab_link": true
    },
    "kernelspec": {
      "name": "python3",
      "display_name": "Python 3"
    },
    "language_info": {
      "name": "python"
    }
  },
  "cells": [
    {
      "cell_type": "markdown",
      "metadata": {
        "id": "view-in-github",
        "colab_type": "text"
      },
      "source": [
        "<a href=\"https://colab.research.google.com/github/segravjf/python_practice/blob/main/triplets_sum_zero.ipynb\" target=\"_parent\"><img src=\"https://colab.research.google.com/assets/colab-badge.svg\" alt=\"Open In Colab\"/></a>"
      ]
    },
    {
      "cell_type": "markdown",
      "source": [
        "# Triplets that sum to zero"
      ],
      "metadata": {
        "id": "20VoYYNnyowq"
      }
    },
    {
      "cell_type": "markdown",
      "source": [
        "Given an array of n distinct elements, can you find all the triplet combinations that sum to zero?\n",
        "\n",
        "\n",
        "For example:\n",
        "\n",
        "\n",
        "\n",
        "\n",
        "Input: [0, -1, 2, -3, 1]\n",
        "\n",
        "\n",
        "Output:\n",
        "\n",
        "\n",
        "0 -1 1\n",
        "\n",
        "\n",
        "2 -3 1\n",
        "\n",
        "\n",
        "\n",
        "\n",
        "\n",
        "Input: [1, -2, 1, 0, 5]\n",
        "\n",
        "\n",
        "Output: 1 -2  1"
      ],
      "metadata": {
        "id": "nEfv1Kmoy7SJ"
      }
    },
    {
      "cell_type": "code",
      "source": [
        "## demo this locally\n",
        "results = []\n",
        "arr = [0,-1,2,-3,1]\n",
        "\n",
        "for i in arr:\n",
        "  for j in arr:\n",
        "    for k in arr:\n",
        "      if arr.index(i) != arr.index(j) and arr.index(j) != arr.index(k) and arr.index(i) != arr.index(k):\n",
        "        if i + j + k == 0:\n",
        "          lst = [i,j,k]\n",
        "          if sorted(lst) not in results:\n",
        "            results.append(sorted(lst))\n",
        "\n",
        "print(results)"
      ],
      "metadata": {
        "colab": {
          "base_uri": "https://localhost:8080/"
        },
        "id": "1-PqKo060k0W",
        "outputId": "29ededb0-b699-4d3e-d5ea-e22acd5072a9"
      },
      "execution_count": 38,
      "outputs": [
        {
          "output_type": "stream",
          "name": "stdout",
          "text": [
            "[[-1, 0, 1], [-3, 1, 2]]\n"
          ]
        }
      ]
    },
    {
      "cell_type": "code",
      "source": [
        "## Build it as a function\n",
        "def triplets_sum_zero(arr):\n",
        "  results = []\n",
        "  rn = range(len(arr))\n",
        "\n",
        "  for i in rn:\n",
        "    for j in rn:\n",
        "      for k in rn:\n",
        "        if rn.index(i) != rn.index(j) and rn.index(j) != rn.index(k) and rn.index(i) != rn.index(k):\n",
        "          if arr[i] + arr[j] + arr[k] == 0:\n",
        "            lst = [arr[i],arr[j],arr[k]]\n",
        "            if sorted(lst) not in results:\n",
        "              results.append(sorted(lst))\n",
        "  return results"
      ],
      "metadata": {
        "id": "dkGZvD4v2EBe"
      },
      "execution_count": 49,
      "outputs": []
    },
    {
      "cell_type": "code",
      "source": [
        "tst = triplets_sum_zero([1,-2,1,0,5])\n",
        "print(tst)"
      ],
      "metadata": {
        "colab": {
          "base_uri": "https://localhost:8080/"
        },
        "id": "vgwTN5nQ6ZbA",
        "outputId": "1aeaffa1-1b27-4ad1-8045-4a41ac6ee232"
      },
      "execution_count": 50,
      "outputs": [
        {
          "output_type": "stream",
          "name": "stdout",
          "text": [
            "[[-2, 1, 1]]\n"
          ]
        }
      ]
    },
    {
      "cell_type": "code",
      "source": [
        "arr2 = [0,-1,2,-3,1]\n",
        "tst = triplets_sum_zero(arr2)\n",
        "print(tst)"
      ],
      "metadata": {
        "colab": {
          "base_uri": "https://localhost:8080/"
        },
        "id": "3FkHMQLf9YHu",
        "outputId": "d9182c79-6053-4c24-a10a-dc4485e3e244"
      },
      "execution_count": 51,
      "outputs": [
        {
          "output_type": "stream",
          "name": "stdout",
          "text": [
            "[[-1, 0, 1], [-3, 1, 2]]\n"
          ]
        }
      ]
    }
  ]
}